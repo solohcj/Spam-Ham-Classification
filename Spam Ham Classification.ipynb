{
 "cells": [
  {
   "cell_type": "code",
   "execution_count": 1,
   "metadata": {
    "colab": {
     "base_uri": "https://localhost:8080/"
    },
    "executionInfo": {
     "elapsed": 3196,
     "status": "ok",
     "timestamp": 1622718194314,
     "user": {
      "displayName": "Solomon Heng",
      "photoUrl": "",
      "userId": "17814351174437266977"
     },
     "user_tz": -480
    },
    "id": "HrNJ5J43-6MO",
    "outputId": "871c52e0-6926-46f0-b0db-8b81f2f60c25"
   },
   "outputs": [
    {
     "name": "stderr",
     "output_type": "stream",
     "text": [
      "C:\\Users\\Solomon\\Anaconda3\\lib\\site-packages\\gensim\\similarities\\__init__.py:15: UserWarning: The gensim.similarities.levenshtein submodule is disabled, because the optional Levenshtein package <https://pypi.org/project/python-Levenshtein/> is unavailable. Install Levenhstein (e.g. `pip install python-Levenshtein`) to suppress this warning.\n",
      "  warnings.warn(msg)\n"
     ]
    }
   ],
   "source": [
    "import pandas as pd\n",
    "import numpy as np\n",
    "\n",
    "import collections\n",
    "import logging\n",
    "import os\n",
    "import pathlib\n",
    "import re\n",
    "import string\n",
    "import sys\n",
    "import time\n",
    "import nltk\n",
    "import gensim\n",
    "\n",
    "import matplotlib.pyplot as plt\n",
    "from gensim.models import Word2Vec\n",
    "from sklearn.model_selection import train_test_split\n",
    "from sklearn.preprocessing import LabelEncoder\n",
    "from nltk.tokenize import word_tokenize\n",
    "from nltk.stem import WordNetLemmatizer\n",
    "\n",
    "from tensorflow.keras.preprocessing.sequence import pad_sequences\n",
    "from tensorflow.keras.preprocessing.text import Tokenizer\n",
    "from tensorflow.keras.models import Sequential\n",
    "from tensorflow.keras.optimizers import Adam\n",
    "from tensorflow.keras.callbacks import EarlyStopping\n",
    "from tensorflow.keras.layers import Dense, Flatten, Embedding, Dropout, LSTM\n",
    "from tensorflow.keras.regularizers import l1\n",
    "from tensorflow.keras.utils import to_categorical\n",
    "import tensorflow as tf"
   ]
  },
  {
   "cell_type": "code",
   "execution_count": 2,
   "metadata": {
    "colab": {
     "base_uri": "https://localhost:8080/"
    },
    "executionInfo": {
     "elapsed": 5,
     "status": "ok",
     "timestamp": 1622718194314,
     "user": {
      "displayName": "Solomon Heng",
      "photoUrl": "",
      "userId": "17814351174437266977"
     },
     "user_tz": -480
    },
    "id": "yocdfSDrlF2x",
    "outputId": "80b25e45-a785-4752-9b90-78c57045a23f"
   },
   "outputs": [
    {
     "name": "stderr",
     "output_type": "stream",
     "text": [
      "[nltk_data] Downloading package punkt to\n",
      "[nltk_data]     C:\\Users\\Solomon\\AppData\\Roaming\\nltk_data...\n",
      "[nltk_data]   Package punkt is already up-to-date!\n",
      "[nltk_data] Downloading package wordnet to\n",
      "[nltk_data]     C:\\Users\\Solomon\\AppData\\Roaming\\nltk_data...\n",
      "[nltk_data]   Package wordnet is already up-to-date!\n"
     ]
    },
    {
     "data": {
      "text/plain": [
       "True"
      ]
     },
     "execution_count": 2,
     "metadata": {},
     "output_type": "execute_result"
    }
   ],
   "source": [
    "nltk.download('punkt')\n",
    "nltk.download('wordnet')"
   ]
  },
  {
   "cell_type": "code",
   "execution_count": 3,
   "metadata": {},
   "outputs": [],
   "source": [
    "w2v_model = gensim.models.KeyedVectors.load_word2vec_format('../Pre-trained Models/GoogleNews-vectors-negative300.bin.gz', binary=True)"
   ]
  },
  {
   "cell_type": "code",
   "execution_count": 4,
   "metadata": {
    "id": "zf113pP9hy-w"
   },
   "outputs": [],
   "source": [
    "# Loading dataset\n",
    "df_train = pd.read_csv(\"spam.csv\", encoding='latin-1')"
   ]
  },
  {
   "cell_type": "code",
   "execution_count": 5,
   "metadata": {
    "colab": {
     "base_uri": "https://localhost:8080/",
     "height": 204
    },
    "executionInfo": {
     "elapsed": 14,
     "status": "ok",
     "timestamp": 1622718256041,
     "user": {
      "displayName": "Solomon Heng",
      "photoUrl": "",
      "userId": "17814351174437266977"
     },
     "user_tz": -480
    },
    "id": "eJBY8cPrH0NK",
    "outputId": "ff9caa31-3597-4e77-d6be-5479e98c94e1"
   },
   "outputs": [
    {
     "data": {
      "text/html": [
       "<div>\n",
       "<style scoped>\n",
       "    .dataframe tbody tr th:only-of-type {\n",
       "        vertical-align: middle;\n",
       "    }\n",
       "\n",
       "    .dataframe tbody tr th {\n",
       "        vertical-align: top;\n",
       "    }\n",
       "\n",
       "    .dataframe thead th {\n",
       "        text-align: right;\n",
       "    }\n",
       "</style>\n",
       "<table border=\"1\" class=\"dataframe\">\n",
       "  <thead>\n",
       "    <tr style=\"text-align: right;\">\n",
       "      <th></th>\n",
       "      <th>v1</th>\n",
       "      <th>v2</th>\n",
       "      <th>Unnamed: 2</th>\n",
       "      <th>Unnamed: 3</th>\n",
       "      <th>Unnamed: 4</th>\n",
       "    </tr>\n",
       "  </thead>\n",
       "  <tbody>\n",
       "    <tr>\n",
       "      <th>0</th>\n",
       "      <td>ham</td>\n",
       "      <td>Go until jurong point, crazy.. Available only ...</td>\n",
       "      <td>NaN</td>\n",
       "      <td>NaN</td>\n",
       "      <td>NaN</td>\n",
       "    </tr>\n",
       "    <tr>\n",
       "      <th>1</th>\n",
       "      <td>ham</td>\n",
       "      <td>Ok lar... Joking wif u oni...</td>\n",
       "      <td>NaN</td>\n",
       "      <td>NaN</td>\n",
       "      <td>NaN</td>\n",
       "    </tr>\n",
       "    <tr>\n",
       "      <th>2</th>\n",
       "      <td>spam</td>\n",
       "      <td>Free entry in 2 a wkly comp to win FA Cup fina...</td>\n",
       "      <td>NaN</td>\n",
       "      <td>NaN</td>\n",
       "      <td>NaN</td>\n",
       "    </tr>\n",
       "    <tr>\n",
       "      <th>3</th>\n",
       "      <td>ham</td>\n",
       "      <td>U dun say so early hor... U c already then say...</td>\n",
       "      <td>NaN</td>\n",
       "      <td>NaN</td>\n",
       "      <td>NaN</td>\n",
       "    </tr>\n",
       "    <tr>\n",
       "      <th>4</th>\n",
       "      <td>ham</td>\n",
       "      <td>Nah I don't think he goes to usf, he lives aro...</td>\n",
       "      <td>NaN</td>\n",
       "      <td>NaN</td>\n",
       "      <td>NaN</td>\n",
       "    </tr>\n",
       "  </tbody>\n",
       "</table>\n",
       "</div>"
      ],
      "text/plain": [
       "     v1                                                 v2 Unnamed: 2  \\\n",
       "0   ham  Go until jurong point, crazy.. Available only ...        NaN   \n",
       "1   ham                      Ok lar... Joking wif u oni...        NaN   \n",
       "2  spam  Free entry in 2 a wkly comp to win FA Cup fina...        NaN   \n",
       "3   ham  U dun say so early hor... U c already then say...        NaN   \n",
       "4   ham  Nah I don't think he goes to usf, he lives aro...        NaN   \n",
       "\n",
       "  Unnamed: 3 Unnamed: 4  \n",
       "0        NaN        NaN  \n",
       "1        NaN        NaN  \n",
       "2        NaN        NaN  \n",
       "3        NaN        NaN  \n",
       "4        NaN        NaN  "
      ]
     },
     "execution_count": 5,
     "metadata": {},
     "output_type": "execute_result"
    }
   ],
   "source": [
    "df_train.head()"
   ]
  },
  {
   "cell_type": "markdown",
   "metadata": {
    "id": "p6xCBQJt493g"
   },
   "source": [
    "# Preparing data"
   ]
  },
  {
   "cell_type": "code",
   "execution_count": 6,
   "metadata": {
    "colab": {
     "base_uri": "https://localhost:8080/"
    },
    "executionInfo": {
     "elapsed": 13,
     "status": "ok",
     "timestamp": 1622718256042,
     "user": {
      "displayName": "Solomon Heng",
      "photoUrl": "",
      "userId": "17814351174437266977"
     },
     "user_tz": -480
    },
    "id": "js6VK8iol7St",
    "outputId": "50edea1f-8f98-4070-fce8-d3a7b4553c10"
   },
   "outputs": [
    {
     "name": "stdout",
     "output_type": "stream",
     "text": [
      "<class 'pandas.core.frame.DataFrame'>\n",
      "RangeIndex: 5572 entries, 0 to 5571\n",
      "Data columns (total 5 columns):\n",
      "v1            5572 non-null object\n",
      "v2            5572 non-null object\n",
      "Unnamed: 2    50 non-null object\n",
      "Unnamed: 3    12 non-null object\n",
      "Unnamed: 4    6 non-null object\n",
      "dtypes: object(5)\n",
      "memory usage: 217.7+ KB\n"
     ]
    }
   ],
   "source": [
    "df_train.info()"
   ]
  },
  {
   "cell_type": "code",
   "execution_count": 7,
   "metadata": {
    "colab": {
     "base_uri": "https://localhost:8080/"
    },
    "executionInfo": {
     "elapsed": 12,
     "status": "ok",
     "timestamp": 1622718256044,
     "user": {
      "displayName": "Solomon Heng",
      "photoUrl": "",
      "userId": "17814351174437266977"
     },
     "user_tz": -480
    },
    "id": "zigWKEtLs482",
    "outputId": "bb4447b7-f665-4f0e-b723-0d084734b059"
   },
   "outputs": [
    {
     "data": {
      "text/plain": [
       "ham     4825\n",
       "spam     747\n",
       "Name: v1, dtype: int64"
      ]
     },
     "execution_count": 7,
     "metadata": {},
     "output_type": "execute_result"
    }
   ],
   "source": [
    "df_train.v1.value_counts()"
   ]
  },
  {
   "cell_type": "code",
   "execution_count": 8,
   "metadata": {
    "id": "xNSVOEsYsw85"
   },
   "outputs": [],
   "source": [
    "# train_test_split\n",
    "X_train, X_test, y_train, y_test = train_test_split(df_train.v2, df_train.v1, test_size=0.1, stratify=df_train.v1)"
   ]
  },
  {
   "cell_type": "code",
   "execution_count": 9,
   "metadata": {
    "colab": {
     "base_uri": "https://localhost:8080/"
    },
    "executionInfo": {
     "elapsed": 307,
     "status": "ok",
     "timestamp": 1622718282705,
     "user": {
      "displayName": "Solomon Heng",
      "photoUrl": "",
      "userId": "17814351174437266977"
     },
     "user_tz": -480
    },
    "id": "PWPM4g62_cTc",
    "outputId": "c7bafb3f-1f57-44b4-b9fd-deaac103ce0f"
   },
   "outputs": [
    {
     "name": "stdout",
     "output_type": "stream",
     "text": [
      "Length of X_train: 5014\n",
      "Length of X_test: 558\n",
      "Length of y_train: 5014\n",
      "Length of y_test: 558\n"
     ]
    }
   ],
   "source": [
    "print ('Length of X_train: ' + str((len(X_train))))\n",
    "print ('Length of X_test: ' + str((len(X_test))))\n",
    "print ('Length of y_train: ' + str((len(y_train))))\n",
    "print ('Length of y_test: ' + str((len(y_test))))"
   ]
  },
  {
   "cell_type": "code",
   "execution_count": 10,
   "metadata": {
    "colab": {
     "base_uri": "https://localhost:8080/"
    },
    "executionInfo": {
     "elapsed": 2,
     "status": "ok",
     "timestamp": 1622718285330,
     "user": {
      "displayName": "Solomon Heng",
      "photoUrl": "",
      "userId": "17814351174437266977"
     },
     "user_tz": -480
    },
    "id": "C7wPbH6tpPFw",
    "outputId": "d9e8e946-ef55-4f13-ae30-057bf2a3be6f"
   },
   "outputs": [
    {
     "data": {
      "text/plain": [
       "4646    God created gap btwn ur fingers so dat sum1 vr...\n",
       "2128                       Well I'm going to be an aunty!\n",
       "4643                         Did u got that persons story\n",
       "2678    Was playng 9 doors game and gt racing on phone...\n",
       "3103    That's y i said it's bad dat all e gals know u...\n",
       "Name: v2, dtype: object"
      ]
     },
     "execution_count": 10,
     "metadata": {},
     "output_type": "execute_result"
    }
   ],
   "source": [
    "X_train[:5]"
   ]
  },
  {
   "cell_type": "markdown",
   "metadata": {
    "id": "gGHSiuMduaFY"
   },
   "source": [
    "# Gensim word2vec Model Training"
   ]
  },
  {
   "cell_type": "code",
   "execution_count": 11,
   "metadata": {
    "id": "Is1lNdsqDbuY"
   },
   "outputs": [],
   "source": [
    "# Changing the documents into a list of lists\n",
    "X_train = [i for i in X_train]\n",
    "X_test = [i for i in X_test]"
   ]
  },
  {
   "cell_type": "code",
   "execution_count": 12,
   "metadata": {
    "colab": {
     "base_uri": "https://localhost:8080/",
     "height": 35
    },
    "executionInfo": {
     "elapsed": 5,
     "status": "ok",
     "timestamp": 1622718287796,
     "user": {
      "displayName": "Solomon Heng",
      "photoUrl": "",
      "userId": "17814351174437266977"
     },
     "user_tz": -480
    },
    "id": "SQhDpwEuOgei",
    "outputId": "9392477a-736c-449c-a3d4-5854aca6d1be"
   },
   "outputs": [
    {
     "data": {
      "text/plain": [
       "'said'"
      ]
     },
     "execution_count": 12,
     "metadata": {},
     "output_type": "execute_result"
    }
   ],
   "source": [
    "w2v_model.index_to_key[9]"
   ]
  },
  {
   "cell_type": "code",
   "execution_count": 13,
   "metadata": {
    "id": "-vPVN8gUoUB7"
   },
   "outputs": [],
   "source": [
    "def tokenizer_padding(list_of_documents, max_length):\n",
    "    \"\"\"\n",
    "    This function takes in a list of documents, tokenizes and pads them before returning the padded documents.\n",
    "    Also returns tokenizer for use for retrieve_embedding_matrix()\n",
    "\n",
    "    Parameters\n",
    "    ----------\n",
    "    list_of_documents : list of lists of documents to be tokenized and padded\n",
    "    max_length : Max length of each sentence for the model to accept\n",
    "    Returns\n",
    "    -------\n",
    "    t : Fitted tokenizer\n",
    "    vocab_size : Vocabulary size\n",
    "    padded_docs : List of lists of documents post tokenization and padding\n",
    "    \"\"\"\n",
    "    docs = list_of_documents\n",
    "\n",
    "    # prepare tokenizer\n",
    "    t = Tokenizer()\n",
    "    t.fit_on_texts(docs)\n",
    "    vocab_size = len(t.word_index) + 1\n",
    "\n",
    "    # integer encode the documents\n",
    "    encoded_docs = t.texts_to_sequences(docs)\n",
    "\n",
    "    # pad documents to a max length of 100 words\n",
    "    max_length = max_length\n",
    "    padded_docs = pad_sequences(encoded_docs, maxlen=max_length, padding='post')\n",
    "\n",
    "    return t, vocab_size, padded_docs"
   ]
  },
  {
   "cell_type": "code",
   "execution_count": 14,
   "metadata": {
    "id": "6FSWCIoyp8Bm"
   },
   "outputs": [],
   "source": [
    "def label_OHE(labels):\n",
    "    encoder = LabelEncoder()\n",
    "    encoder.fit(labels)\n",
    "    labels = encoder.transform(labels)\n",
    "\n",
    "    # convert integers to dummy variables (i.e. one hot encoded)\n",
    "    labels = to_categorical(labels)\n",
    "\n",
    "    return labels"
   ]
  },
  {
   "cell_type": "code",
   "execution_count": 15,
   "metadata": {
    "id": "KvZ6TeoEtmql"
   },
   "outputs": [],
   "source": [
    "def get_model(vocab_size, embedded_dim, max_length):\n",
    "    model = Sequential()\n",
    "    e = Embedding(vocab_size, embedded_dim, weights=[embedding_matrix], input_length=max_length, trainable=False)\n",
    "    # e = Embedding(vocab_size, embedded_dim, input_length=max_length)\n",
    "    model.add(e)\n",
    "    model.add(LSTM(100))\n",
    "    model.add(Dropout(0.3))\n",
    "    model.add(Dense(2, activation='softmax'))\n",
    "\n",
    "    # Setting learning rate\n",
    "    opt = Adam(learning_rate=0.001)\n",
    "\n",
    "    # compile the model\n",
    "    model.compile(optimizer=opt, loss='categorical_crossentropy', metrics=['accuracy'])\n",
    "    print (model.summary())\n",
    "\n",
    "    return model"
   ]
  },
  {
   "cell_type": "code",
   "execution_count": 16,
   "metadata": {
    "id": "x4EjtBXHwRnN"
   },
   "outputs": [],
   "source": [
    "y_train_ohe = label_OHE(y_train)\n",
    "y_test_ohe = label_OHE(y_test)"
   ]
  },
  {
   "cell_type": "code",
   "execution_count": 17,
   "metadata": {
    "id": "H9dDrconwRbJ"
   },
   "outputs": [],
   "source": [
    "X_train_tokenizer, X_train_vocab_size, X_train_padded_doc = tokenizer_padding(X_train, max_length=100)\n",
    "X_test_tokenizer, X_test_vocab_size, X_test_padded_doc = tokenizer_padding(X_test, max_length=100)"
   ]
  },
  {
   "cell_type": "code",
   "execution_count": 18,
   "metadata": {
    "colab": {
     "base_uri": "https://localhost:8080/"
    },
    "executionInfo": {
     "elapsed": 5,
     "status": "ok",
     "timestamp": 1622718417274,
     "user": {
      "displayName": "Solomon Heng",
      "photoUrl": "",
      "userId": "17814351174437266977"
     },
     "user_tz": -480
    },
    "id": "vz_uJ17tfqcC",
    "outputId": "320abe29-a213-4b90-c691-8eefaa5423ef"
   },
   "outputs": [
    {
     "data": {
      "text/plain": [
       "array([   6,   22, 2184,    2,    5,  298,   93,  780,  230,    8,    5,\n",
       "        197,   12,  831,  243,  424,  291,  506,    3,   68,   82,    2,\n",
       "       4141, 2795, 2796,    0,    0,    0,    0,    0,    0,    0,    0,\n",
       "          0,    0,    0,    0,    0,    0,    0,    0,    0,    0,    0,\n",
       "          0,    0,    0,    0,    0,    0,    0,    0,    0,    0,    0,\n",
       "          0,    0,    0,    0,    0,    0,    0,    0,    0,    0,    0,\n",
       "          0,    0,    0,    0,    0,    0,    0,    0,    0,    0,    0,\n",
       "          0,    0,    0,    0,    0,    0,    0,    0,    0,    0,    0,\n",
       "          0,    0,    0,    0,    0,    0,    0,    0,    0,    0,    0,\n",
       "          0])"
      ]
     },
     "execution_count": 18,
     "metadata": {},
     "output_type": "execute_result"
    }
   ],
   "source": [
    "X_train_padded_doc[50]"
   ]
  },
  {
   "cell_type": "code",
   "execution_count": 19,
   "metadata": {
    "colab": {
     "base_uri": "https://localhost:8080/"
    },
    "executionInfo": {
     "elapsed": 4,
     "status": "ok",
     "timestamp": 1622718417275,
     "user": {
      "displayName": "Solomon Heng",
      "photoUrl": "",
      "userId": "17814351174437266977"
     },
     "user_tz": -480
    },
    "id": "NbjepX-weNp9",
    "outputId": "f32ac4ce-f4d1-439f-ddba-6a6e447ff260"
   },
   "outputs": [
    {
     "data": {
      "text/plain": [
       "8492"
      ]
     },
     "execution_count": 19,
     "metadata": {},
     "output_type": "execute_result"
    }
   ],
   "source": [
    "len(X_train_tokenizer.word_index)"
   ]
  },
  {
   "cell_type": "code",
   "execution_count": 20,
   "metadata": {
    "colab": {
     "base_uri": "https://localhost:8080/"
    },
    "executionInfo": {
     "elapsed": 7274,
     "status": "ok",
     "timestamp": 1622718425015,
     "user": {
      "displayName": "Solomon Heng",
      "photoUrl": "",
      "userId": "17814351174437266977"
     },
     "user_tz": -480
    },
    "id": "xXlYqawncnSN",
    "outputId": "ffa31e0e-111c-4129-ad25-872659d88ba1"
   },
   "outputs": [
    {
     "data": {
      "text/plain": [
       "array([[ 0.        ,  0.        ,  0.        , ...,  0.        ,\n",
       "         0.        ,  0.        ],\n",
       "       [-0.22558594, -0.01953125,  0.09082031, ...,  0.02819824,\n",
       "        -0.17773438, -0.00604248],\n",
       "       [ 0.        ,  0.        ,  0.        , ...,  0.        ,\n",
       "         0.        ,  0.        ],\n",
       "       ...,\n",
       "       [ 0.        ,  0.        ,  0.        , ...,  0.        ,\n",
       "         0.        ,  0.        ],\n",
       "       [-0.01275635, -0.13769531, -0.02978516, ..., -0.06494141,\n",
       "        -0.11816406, -0.02099609],\n",
       "       [-0.07421875,  0.27929688, -0.34570312, ..., -0.06396484,\n",
       "         0.390625  ,  0.0546875 ]])"
      ]
     },
     "execution_count": 20,
     "metadata": {},
     "output_type": "execute_result"
    }
   ],
   "source": [
    "# Getting embedding matrix for pre-trained Word2Vec model\n",
    "embeddings_index = dict()\n",
    "\n",
    "# We will populate the embeddings_index dictionary with all the key<->vector pair in the Word2Vec model\n",
    "for line in range(len(w2v_model.index_to_key)):\n",
    "    embeddings_index[w2v_model.index_to_key[line]] = w2v_model.get_vector(w2v_model.index_to_key[line])\n",
    "\n",
    "# create a weight matrix for words in training docs\n",
    "embedding_matrix = np.zeros((X_train_vocab_size, 300))\n",
    "for word, i in X_train_tokenizer.word_index.items():\n",
    "    embedding_vector = embeddings_index.get(word)\n",
    "    if embedding_vector is not None:\n",
    "        embedding_matrix[i] = embedding_vector\n",
    "\n",
    "embedding_matrix"
   ]
  },
  {
   "cell_type": "code",
   "execution_count": 21,
   "metadata": {
    "colab": {
     "base_uri": "https://localhost:8080/"
    },
    "executionInfo": {
     "elapsed": 10,
     "status": "ok",
     "timestamp": 1622718425020,
     "user": {
      "displayName": "Solomon Heng",
      "photoUrl": "",
      "userId": "17814351174437266977"
     },
     "user_tz": -480
    },
    "id": "vnYdgcCxa7tH",
    "outputId": "35a65a30-e4d5-48e2-f0a0-09a3f0f97782"
   },
   "outputs": [
    {
     "data": {
      "text/plain": [
       "8493"
      ]
     },
     "execution_count": 21,
     "metadata": {},
     "output_type": "execute_result"
    }
   ],
   "source": [
    "X_train_vocab_size"
   ]
  },
  {
   "cell_type": "code",
   "execution_count": 22,
   "metadata": {
    "colab": {
     "base_uri": "https://localhost:8080/"
    },
    "executionInfo": {
     "elapsed": 511,
     "status": "ok",
     "timestamp": 1622718425523,
     "user": {
      "displayName": "Solomon Heng",
      "photoUrl": "",
      "userId": "17814351174437266977"
     },
     "user_tz": -480
    },
    "id": "bpbQcttvxNsM",
    "outputId": "74510e01-16ce-4046-e35c-853631cf8bf5"
   },
   "outputs": [
    {
     "name": "stdout",
     "output_type": "stream",
     "text": [
      "Model: \"sequential\"\n",
      "_________________________________________________________________\n",
      "Layer (type)                 Output Shape              Param #   \n",
      "=================================================================\n",
      "embedding (Embedding)        (None, 100, 300)          2547900   \n",
      "_________________________________________________________________\n",
      "lstm (LSTM)                  (None, 100)               160400    \n",
      "_________________________________________________________________\n",
      "dropout (Dropout)            (None, 100)               0         \n",
      "_________________________________________________________________\n",
      "dense (Dense)                (None, 2)                 202       \n",
      "=================================================================\n",
      "Total params: 2,708,502\n",
      "Trainable params: 160,602\n",
      "Non-trainable params: 2,547,900\n",
      "_________________________________________________________________\n",
      "None\n"
     ]
    }
   ],
   "source": [
    "model = get_model(X_train_vocab_size, embedded_dim=300, max_length=100)"
   ]
  },
  {
   "cell_type": "code",
   "execution_count": 23,
   "metadata": {
    "colab": {
     "base_uri": "https://localhost:8080/"
    },
    "executionInfo": {
     "elapsed": 8,
     "status": "ok",
     "timestamp": 1622718425523,
     "user": {
      "displayName": "Solomon Heng",
      "photoUrl": "",
      "userId": "17814351174437266977"
     },
     "user_tz": -480
    },
    "id": "BHUoDcjj9so3",
    "outputId": "eca2e6f4-c97f-4508-f3c2-485d0c279d03"
   },
   "outputs": [
    {
     "data": {
      "text/plain": [
       "array([ 338, 1373, 1374, 4100,   31, 1099,   23,  339, 2168, 1375,  270,\n",
       "         35, 1796,  391, 1797,   77, 1223,   31, 1798,   20,  483,   91,\n",
       "        163,  304,   69, 1373,   23,  125, 1374,  405, 2776,    0,    0,\n",
       "          0,    0,    0,    0,    0,    0,    0,    0,    0,    0,    0,\n",
       "          0,    0,    0,    0,    0,    0,    0,    0,    0,    0,    0,\n",
       "          0,    0,    0,    0,    0,    0,    0,    0,    0,    0,    0,\n",
       "          0,    0,    0,    0,    0,    0,    0,    0,    0,    0,    0,\n",
       "          0,    0,    0,    0,    0,    0,    0,    0,    0,    0,    0,\n",
       "          0,    0,    0,    0,    0,    0,    0,    0,    0,    0,    0,\n",
       "          0])"
      ]
     },
     "execution_count": 23,
     "metadata": {},
     "output_type": "execute_result"
    }
   ],
   "source": [
    "X_train_padded_doc[0]"
   ]
  },
  {
   "cell_type": "code",
   "execution_count": 24,
   "metadata": {
    "colab": {
     "base_uri": "https://localhost:8080/"
    },
    "executionInfo": {
     "elapsed": 148121,
     "status": "ok",
     "timestamp": 1622718573639,
     "user": {
      "displayName": "Solomon Heng",
      "photoUrl": "",
      "userId": "17814351174437266977"
     },
     "user_tz": -480
    },
    "id": "HMFgjsEn-sW8",
    "outputId": "96b84d9b-7812-43ce-8a31-a8e1121a55d7"
   },
   "outputs": [
    {
     "name": "stdout",
     "output_type": "stream",
     "text": [
      "Epoch 1/100\n",
      "157/157 [==============================] - 6s 38ms/step - loss: 0.2686 - accuracy: 0.9190 - val_loss: 0.5357 - val_accuracy: 0.8190\n",
      "Epoch 2/100\n",
      "157/157 [==============================] - 5s 34ms/step - loss: 0.2058 - accuracy: 0.9464 - val_loss: 0.5528 - val_accuracy: 0.8656\n",
      "Epoch 3/100\n",
      "157/157 [==============================] - 5s 34ms/step - loss: 0.1141 - accuracy: 0.9637 - val_loss: 0.4287 - val_accuracy: 0.8602\n",
      "Epoch 4/100\n",
      "157/157 [==============================] - 5s 34ms/step - loss: 0.1299 - accuracy: 0.9527 - val_loss: 0.5850 - val_accuracy: 0.8656\n",
      "Epoch 5/100\n",
      "157/157 [==============================] - 5s 34ms/step - loss: 0.1966 - accuracy: 0.9460 - val_loss: 0.5911 - val_accuracy: 0.8280\n",
      "Epoch 6/100\n",
      "157/157 [==============================] - 5s 35ms/step - loss: 0.3472 - accuracy: 0.8903 - val_loss: 0.3982 - val_accuracy: 0.8656\n",
      "Epoch 7/100\n",
      "157/157 [==============================] - 5s 34ms/step - loss: 0.4130 - accuracy: 0.8656 - val_loss: 0.3941 - val_accuracy: 0.8656\n",
      "Epoch 8/100\n",
      "157/157 [==============================] - 5s 34ms/step - loss: 0.4035 - accuracy: 0.8658 - val_loss: 0.3936 - val_accuracy: 0.8656\n",
      "Epoch 9/100\n",
      "157/157 [==============================] - 5s 35ms/step - loss: 0.4007 - accuracy: 0.8660 - val_loss: 0.3936 - val_accuracy: 0.8656\n",
      "Epoch 10/100\n",
      "157/157 [==============================] - 5s 35ms/step - loss: 0.3971 - accuracy: 0.8660 - val_loss: 0.3956 - val_accuracy: 0.8656\n",
      "Epoch 11/100\n",
      "157/157 [==============================] - 5s 35ms/step - loss: 0.3963 - accuracy: 0.8660 - val_loss: 0.3946 - val_accuracy: 0.8656\n"
     ]
    }
   ],
   "source": [
    "# Creating earlystop for validation\n",
    "earlystop = EarlyStopping(monitor='val_loss', patience=3)\n",
    "\n",
    "# fit the model\n",
    "history = model.fit(X_train_padded_doc, y_train_ohe, batch_size=32, callbacks=[earlystop], validation_data=(X_test_padded_doc, y_test_ohe), epochs=100, verbose=1)"
   ]
  },
  {
   "cell_type": "code",
   "execution_count": 25,
   "metadata": {
    "colab": {
     "base_uri": "https://localhost:8080/",
     "height": 295
    },
    "executionInfo": {
     "elapsed": 28,
     "status": "ok",
     "timestamp": 1622718573640,
     "user": {
      "displayName": "Solomon Heng",
      "photoUrl": "",
      "userId": "17814351174437266977"
     },
     "user_tz": -480
    },
    "id": "8aB0C5s07D17",
    "outputId": "3a2f641d-6b3e-46c4-ceed-f41539ad530a"
   },
   "outputs": [
    {
     "data": {
      "image/png": "[encoded data removed]",
      "text/plain": [
       "<Figure size 432x288 with 1 Axes>"
      ]
     },
     "metadata": {
      "needs_background": "light"
     },
     "output_type": "display_data"
    }
   ],
   "source": [
    "# summarize history for loss\n",
    "plt.plot(history.history['loss'])\n",
    "plt.plot(history.history['val_loss'])\n",
    "plt.title('model loss')\n",
    "plt.ylabel('loss')\n",
    "plt.xlabel('epoch')\n",
    "plt.legend(['train', 'test'], loc='upper left')\n",
    "plt.show()"
   ]
  },
  {
   "cell_type": "code",
   "execution_count": 26,
   "metadata": {
    "colab": {
     "base_uri": "https://localhost:8080/"
    },
    "executionInfo": {
     "elapsed": 793,
     "status": "ok",
     "timestamp": 1622718574423,
     "user": {
      "displayName": "Solomon Heng",
      "photoUrl": "",
      "userId": "17814351174437266977"
     },
     "user_tz": -480
    },
    "id": "iIDzf3Hb1YiH",
    "outputId": "fcd92738-1eed-4abd-b7bc-46ce338f523f"
   },
   "outputs": [
    {
     "name": "stdout",
     "output_type": "stream",
     "text": [
      "18/18 [==============================] - 0s 12ms/step - loss: 0.3946 - accuracy: 0.8656\n",
      "Accuracy: 86.559141\n"
     ]
    }
   ],
   "source": [
    "# evaluate the model\n",
    "loss, accuracy = model.evaluate(X_test_padded_doc, y_test_ohe, verbose=1)\n",
    "print('Accuracy: %f' % (accuracy*100))"
   ]
  }
 ],
 "metadata": {
  "colab": {
   "collapsed_sections": [],
   "name": "Solo's Attempt (Word2vec, VAE and Classification).ipynb",
   "provenance": []
  },
  "kernelspec": {
   "display_name": "Python 3",
   "language": "python",
   "name": "python3"
  },
  "language_info": {
   "codemirror_mode": {
    "name": "ipython",
    "version": 3
   },
   "file_extension": ".py",
   "mimetype": "text/x-python",
   "name": "python",
   "nbconvert_exporter": "python",
   "pygments_lexer": "ipython3",
   "version": "3.7.3"
  }
 },
 "nbformat": 4,
 "nbformat_minor": 1
}
